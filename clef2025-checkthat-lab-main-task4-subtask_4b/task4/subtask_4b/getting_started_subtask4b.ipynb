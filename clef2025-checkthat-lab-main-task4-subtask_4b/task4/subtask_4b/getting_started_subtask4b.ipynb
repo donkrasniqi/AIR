{
  "cells": [
    {
      "cell_type": "code",
      "execution_count": 1,
      "metadata": {
        "colab": {
          "base_uri": "https://localhost:8080/"
        },
        "id": "ju-O-_37BW5m",
        "outputId": "ae341391-5767-4765-8001-4892c1a34b11"
      },
      "outputs": [],
      "source": [
        "# from google.colab import drive\n",
        "# drive.mount('/content/drive')"
      ]
    },
    {
      "cell_type": "code",
      "execution_count": 2,
      "metadata": {
        "id": "0pSz8Re3C0AP"
      },
      "outputs": [],
      "source": [
        "#!ls \"/content/drive/My Drive/clef2025-checkthat-lab-main-task4-subtask_4b/task4/subtask_4b\""
      ]
    },
    {
      "cell_type": "code",
      "execution_count": 3,
      "metadata": {
        "id": "CVAjelnVBtBv"
      },
      "outputs": [],
      "source": [
        "# import os\n",
        "\n",
        "# project_path = \"/content/drive/My Drive/clef2025-checkthat-lab-main-task4-subtask_4b/task4/subtask_4b\"\n",
        "# os.chdir(project_path)"
      ]
    },
    {
      "cell_type": "markdown",
      "metadata": {
        "id": "MfnQvGfvtH1w"
      },
      "source": [
        "# Getting started\n",
        "\n",
        "### CLEF 2025 - CheckThat! Lab  - Task 4 Scientific Web Discourse - Subtask 4b (Scientific Claim Source Retrieval)\n",
        "\n",
        "This notebook enables participants of subtask 4b to quickly get started. It includes the following:\n",
        "- Code to upload data, including:\n",
        "    - code to upload the collection set (CORD-19 academic papers' metadata)\n",
        "    - code to upload the query set (tweets with implicit references to CORD-19 papers)\n",
        "- Code to run a baseline retrieval model (BM25)\n",
        "- Code to evaluate the baseline model\n",
        "\n",
        "Participants are free to use this notebook and add their own models for the competition."
      ]
    },
    {
      "cell_type": "markdown",
      "metadata": {
        "id": "vpDCfBMouNAL"
      },
      "source": [
        "# 1) Importing data"
      ]
    },
    {
      "cell_type": "code",
      "execution_count": 4,
      "metadata": {
        "id": "rQPqDKP_QHFM"
      },
      "outputs": [],
      "source": [
        "import numpy as np\n",
        "import pandas as pd"
      ]
    },
    {
      "cell_type": "markdown",
      "metadata": {
        "id": "u8N7h9BhQI5m"
      },
      "source": [
        "## 1.a) Import the collection set\n",
        "The collection set contains metadata of CORD-19 academic papers.\n",
        "\n",
        "The preprocessed and filtered CORD-19 dataset is available on the Gitlab repository here: https://gitlab.com/checkthat_lab/clef2025-checkthat-lab/-/tree/main/task4/subtask_4b\n",
        "\n",
        "Participants should first download the file then upload it on the Google Colab session with the following steps.\n"
      ]
    },
    {
      "cell_type": "code",
      "execution_count": 5,
      "metadata": {
        "id": "2GQI4HcKR6hS"
      },
      "outputs": [],
      "source": [
        "# 1) Download the collection set from the Gitlab repository: https://gitlab.com/checkthat_lab/clef2025-checkthat-lab/-/tree/main/task4/subtask_4b\n",
        "# 2) Drag and drop the downloaded file to the \"Files\" section (left vertical menu on Colab)\n",
        "# 3) Modify the path to your local file path\n",
        "PATH_COLLECTION_DATA = 'subtask4b_collection_data.pkl' #MODIFY PATH"
      ]
    },
    {
      "cell_type": "code",
      "execution_count": 6,
      "metadata": {
        "id": "SYBB3UYbMwTA"
      },
      "outputs": [],
      "source": [
        "df_collection = pd.read_pickle(PATH_COLLECTION_DATA)"
      ]
    },
    {
      "cell_type": "code",
      "execution_count": 7,
      "metadata": {
        "colab": {
          "base_uri": "https://localhost:8080/"
        },
        "id": "4v3lygNOQQSn",
        "outputId": "f3c4c57a-8678-4ebd-e94d-61cda99ecbe2"
      },
      "outputs": [
        {
          "name": "stdout",
          "output_type": "stream",
          "text": [
            "<class 'pandas.core.frame.DataFrame'>\n",
            "Index: 7718 entries, 162 to 1056448\n",
            "Data columns (total 17 columns):\n",
            " #   Column            Non-Null Count  Dtype         \n",
            "---  ------            --------------  -----         \n",
            " 0   cord_uid          7718 non-null   object        \n",
            " 1   source_x          7718 non-null   object        \n",
            " 2   title             7718 non-null   object        \n",
            " 3   doi               7677 non-null   object        \n",
            " 4   pmcid             4959 non-null   object        \n",
            " 5   pubmed_id         6233 non-null   object        \n",
            " 6   license           7718 non-null   object        \n",
            " 7   abstract          7718 non-null   object        \n",
            " 8   publish_time      7715 non-null   object        \n",
            " 9   authors           7674 non-null   object        \n",
            " 10  journal           6668 non-null   object        \n",
            " 11  mag_id            0 non-null      float64       \n",
            " 12  who_covidence_id  528 non-null    object        \n",
            " 13  arxiv_id          20 non-null     object        \n",
            " 14  label             7718 non-null   object        \n",
            " 15  time              7715 non-null   datetime64[ns]\n",
            " 16  timet             7718 non-null   int64         \n",
            "dtypes: datetime64[ns](1), float64(1), int64(1), object(14)\n",
            "memory usage: 1.1+ MB\n"
          ]
        }
      ],
      "source": [
        "df_collection.info()"
      ]
    },
    {
      "cell_type": "code",
      "execution_count": 8,
      "metadata": {
        "colab": {
          "base_uri": "https://localhost:8080/",
          "height": 293
        },
        "id": "9veNFFGDZRx7",
        "outputId": "b10691f3-2bb3-4284-b61b-2f92b038a9c5"
      },
      "outputs": [
        {
          "data": {
            "text/html": [
              "<div>\n",
              "<style scoped>\n",
              "    .dataframe tbody tr th:only-of-type {\n",
              "        vertical-align: middle;\n",
              "    }\n",
              "\n",
              "    .dataframe tbody tr th {\n",
              "        vertical-align: top;\n",
              "    }\n",
              "\n",
              "    .dataframe thead th {\n",
              "        text-align: right;\n",
              "    }\n",
              "</style>\n",
              "<table border=\"1\" class=\"dataframe\">\n",
              "  <thead>\n",
              "    <tr style=\"text-align: right;\">\n",
              "      <th></th>\n",
              "      <th>cord_uid</th>\n",
              "      <th>source_x</th>\n",
              "      <th>title</th>\n",
              "      <th>doi</th>\n",
              "      <th>pmcid</th>\n",
              "      <th>pubmed_id</th>\n",
              "      <th>license</th>\n",
              "      <th>abstract</th>\n",
              "      <th>publish_time</th>\n",
              "      <th>authors</th>\n",
              "      <th>journal</th>\n",
              "      <th>mag_id</th>\n",
              "      <th>who_covidence_id</th>\n",
              "      <th>arxiv_id</th>\n",
              "      <th>label</th>\n",
              "      <th>time</th>\n",
              "      <th>timet</th>\n",
              "    </tr>\n",
              "  </thead>\n",
              "  <tbody>\n",
              "    <tr>\n",
              "      <th>162</th>\n",
              "      <td>umvrwgaw</td>\n",
              "      <td>PMC</td>\n",
              "      <td>Professional and Home-Made Face Masks Reduce E...</td>\n",
              "      <td>10.1371/journal.pone.0002618</td>\n",
              "      <td>PMC2440799</td>\n",
              "      <td>18612429</td>\n",
              "      <td>cc-by</td>\n",
              "      <td>BACKGROUND: Governments are preparing for a po...</td>\n",
              "      <td>2008-07-09</td>\n",
              "      <td>van der Sande, Marianne; Teunis, Peter; Sabel,...</td>\n",
              "      <td>PLoS One</td>\n",
              "      <td>NaN</td>\n",
              "      <td>NaN</td>\n",
              "      <td>NaN</td>\n",
              "      <td>umvrwgaw</td>\n",
              "      <td>2008-07-09</td>\n",
              "      <td>1215561600</td>\n",
              "    </tr>\n",
              "    <tr>\n",
              "      <th>611</th>\n",
              "      <td>spiud6ok</td>\n",
              "      <td>PMC</td>\n",
              "      <td>The Failure of R (0)</td>\n",
              "      <td>10.1155/2011/527610</td>\n",
              "      <td>PMC3157160</td>\n",
              "      <td>21860658</td>\n",
              "      <td>cc-by</td>\n",
              "      <td>The basic reproductive ratio, R (0), is one of...</td>\n",
              "      <td>2011-08-16</td>\n",
              "      <td>Li, Jing; Blakeley, Daniel; Smith?, Robert J.</td>\n",
              "      <td>Comput Math Methods Med</td>\n",
              "      <td>NaN</td>\n",
              "      <td>NaN</td>\n",
              "      <td>NaN</td>\n",
              "      <td>spiud6ok</td>\n",
              "      <td>2011-08-16</td>\n",
              "      <td>1313452800</td>\n",
              "    </tr>\n",
              "    <tr>\n",
              "      <th>918</th>\n",
              "      <td>aclzp3iy</td>\n",
              "      <td>PMC</td>\n",
              "      <td>Pulmonary sequelae in a patient recovered from...</td>\n",
              "      <td>10.4103/0970-2113.99118</td>\n",
              "      <td>PMC3424870</td>\n",
              "      <td>22919170</td>\n",
              "      <td>cc-by-nc-sa</td>\n",
              "      <td>The pandemic of swine flu (H1N1) influenza spr...</td>\n",
              "      <td>2012</td>\n",
              "      <td>Singh, Virendra; Sharma, Bharat Bhushan; Patel...</td>\n",
              "      <td>Lung India</td>\n",
              "      <td>NaN</td>\n",
              "      <td>NaN</td>\n",
              "      <td>NaN</td>\n",
              "      <td>aclzp3iy</td>\n",
              "      <td>2012-01-01</td>\n",
              "      <td>1325376000</td>\n",
              "    </tr>\n",
              "    <tr>\n",
              "      <th>993</th>\n",
              "      <td>ycxyn2a2</td>\n",
              "      <td>PMC</td>\n",
              "      <td>What was the primary mode of smallpox transmis...</td>\n",
              "      <td>10.3389/fcimb.2012.00150</td>\n",
              "      <td>PMC3509329</td>\n",
              "      <td>23226686</td>\n",
              "      <td>cc-by</td>\n",
              "      <td>The mode of infection transmission has profoun...</td>\n",
              "      <td>2012-11-29</td>\n",
              "      <td>Milton, Donald K.</td>\n",
              "      <td>Front Cell Infect Microbiol</td>\n",
              "      <td>NaN</td>\n",
              "      <td>NaN</td>\n",
              "      <td>NaN</td>\n",
              "      <td>ycxyn2a2</td>\n",
              "      <td>2012-11-29</td>\n",
              "      <td>1354147200</td>\n",
              "    </tr>\n",
              "    <tr>\n",
              "      <th>1053</th>\n",
              "      <td>zxe95qy9</td>\n",
              "      <td>PMC</td>\n",
              "      <td>Lessons from the History of Quarantine, from P...</td>\n",
              "      <td>10.3201/eid1902.120312</td>\n",
              "      <td>PMC3559034</td>\n",
              "      <td>23343512</td>\n",
              "      <td>no-cc</td>\n",
              "      <td>In the new millennium, the centuries-old strat...</td>\n",
              "      <td>2013-02-03</td>\n",
              "      <td>Tognotti, Eugenia</td>\n",
              "      <td>Emerg Infect Dis</td>\n",
              "      <td>NaN</td>\n",
              "      <td>NaN</td>\n",
              "      <td>NaN</td>\n",
              "      <td>zxe95qy9</td>\n",
              "      <td>2013-02-03</td>\n",
              "      <td>1359849600</td>\n",
              "    </tr>\n",
              "  </tbody>\n",
              "</table>\n",
              "</div>"
            ],
            "text/plain": [
              "      cord_uid source_x                                              title  \\\n",
              "162   umvrwgaw      PMC  Professional and Home-Made Face Masks Reduce E...   \n",
              "611   spiud6ok      PMC                               The Failure of R (0)   \n",
              "918   aclzp3iy      PMC  Pulmonary sequelae in a patient recovered from...   \n",
              "993   ycxyn2a2      PMC  What was the primary mode of smallpox transmis...   \n",
              "1053  zxe95qy9      PMC  Lessons from the History of Quarantine, from P...   \n",
              "\n",
              "                               doi       pmcid pubmed_id      license  \\\n",
              "162   10.1371/journal.pone.0002618  PMC2440799  18612429        cc-by   \n",
              "611            10.1155/2011/527610  PMC3157160  21860658        cc-by   \n",
              "918        10.4103/0970-2113.99118  PMC3424870  22919170  cc-by-nc-sa   \n",
              "993       10.3389/fcimb.2012.00150  PMC3509329  23226686        cc-by   \n",
              "1053        10.3201/eid1902.120312  PMC3559034  23343512        no-cc   \n",
              "\n",
              "                                               abstract publish_time  \\\n",
              "162   BACKGROUND: Governments are preparing for a po...   2008-07-09   \n",
              "611   The basic reproductive ratio, R (0), is one of...   2011-08-16   \n",
              "918   The pandemic of swine flu (H1N1) influenza spr...         2012   \n",
              "993   The mode of infection transmission has profoun...   2012-11-29   \n",
              "1053  In the new millennium, the centuries-old strat...   2013-02-03   \n",
              "\n",
              "                                                authors  \\\n",
              "162   van der Sande, Marianne; Teunis, Peter; Sabel,...   \n",
              "611       Li, Jing; Blakeley, Daniel; Smith?, Robert J.   \n",
              "918   Singh, Virendra; Sharma, Bharat Bhushan; Patel...   \n",
              "993                                   Milton, Donald K.   \n",
              "1053                                  Tognotti, Eugenia   \n",
              "\n",
              "                          journal  mag_id who_covidence_id arxiv_id     label  \\\n",
              "162                      PLoS One     NaN              NaN      NaN  umvrwgaw   \n",
              "611       Comput Math Methods Med     NaN              NaN      NaN  spiud6ok   \n",
              "918                    Lung India     NaN              NaN      NaN  aclzp3iy   \n",
              "993   Front Cell Infect Microbiol     NaN              NaN      NaN  ycxyn2a2   \n",
              "1053             Emerg Infect Dis     NaN              NaN      NaN  zxe95qy9   \n",
              "\n",
              "           time       timet  \n",
              "162  2008-07-09  1215561600  \n",
              "611  2011-08-16  1313452800  \n",
              "918  2012-01-01  1325376000  \n",
              "993  2012-11-29  1354147200  \n",
              "1053 2013-02-03  1359849600  "
            ]
          },
          "execution_count": 8,
          "metadata": {},
          "output_type": "execute_result"
        }
      ],
      "source": [
        "df_collection.head()"
      ]
    },
    {
      "cell_type": "markdown",
      "metadata": {
        "id": "AAUiDU0xXLBt"
      },
      "source": [
        "## 1.b) Import the query set\n",
        "\n",
        "The query set contains tweets with implicit references to academic papers from the collection set.\n",
        "\n",
        "The preprocessed query set is available on the Gitlab repository here: https://gitlab.com/checkthat_lab/clef2025-checkthat-lab/-/tree/main/task4/subtask_4b\n",
        "\n",
        "Participants should first download the file then upload it on the Google Colab session with the following steps."
      ]
    },
    {
      "cell_type": "code",
      "execution_count": 9,
      "metadata": {
        "id": "v8gwkZDSXPsd"
      },
      "outputs": [],
      "source": [
        "# 1) Download the query tweets from the Gitlab repository: https://gitlab.com/checkthat_lab/clef2025-checkthat-lab/-/tree/main/task4/subtask_4b?ref_type=heads\n",
        "# 2) Drag and drop the downloaded file to the \"Files\" section (left vertical menu on Colab)\n",
        "# 3) Modify the path to your local file path\n",
        "PATH_QUERY_TRAIN_DATA = 'subtask4b_query_tweets_train.tsv' #MODIFY PATH\n",
        "PATH_QUERY_DEV_DATA = 'subtask4b_query_tweets_dev.tsv' #MODIFY PATH"
      ]
    },
    {
      "cell_type": "code",
      "execution_count": 10,
      "metadata": {
        "id": "VqxjYq2tYDmE"
      },
      "outputs": [],
      "source": [
        "df_query_train = pd.read_csv(PATH_QUERY_TRAIN_DATA, sep = '\\t')\n",
        "df_query_dev = pd.read_csv(PATH_QUERY_DEV_DATA, sep = '\\t')"
      ]
    },
    {
      "cell_type": "code",
      "execution_count": 11,
      "metadata": {
        "colab": {
          "base_uri": "https://localhost:8080/",
          "height": 206
        },
        "id": "szMEK3OkYLvX",
        "outputId": "cdf30d12-3f1f-4303-f521-954b2d8493b1"
      },
      "outputs": [
        {
          "data": {
            "text/html": [
              "<div>\n",
              "<style scoped>\n",
              "    .dataframe tbody tr th:only-of-type {\n",
              "        vertical-align: middle;\n",
              "    }\n",
              "\n",
              "    .dataframe tbody tr th {\n",
              "        vertical-align: top;\n",
              "    }\n",
              "\n",
              "    .dataframe thead th {\n",
              "        text-align: right;\n",
              "    }\n",
              "</style>\n",
              "<table border=\"1\" class=\"dataframe\">\n",
              "  <thead>\n",
              "    <tr style=\"text-align: right;\">\n",
              "      <th></th>\n",
              "      <th>post_id</th>\n",
              "      <th>tweet_text</th>\n",
              "      <th>cord_uid</th>\n",
              "    </tr>\n",
              "  </thead>\n",
              "  <tbody>\n",
              "    <tr>\n",
              "      <th>0</th>\n",
              "      <td>0</td>\n",
              "      <td>Oral care in rehabilitation medicine: oral vul...</td>\n",
              "      <td>htlvpvz5</td>\n",
              "    </tr>\n",
              "    <tr>\n",
              "      <th>1</th>\n",
              "      <td>1</td>\n",
              "      <td>this study isn't receiving sufficient attentio...</td>\n",
              "      <td>4kfl29ul</td>\n",
              "    </tr>\n",
              "    <tr>\n",
              "      <th>2</th>\n",
              "      <td>2</td>\n",
              "      <td>thanks, xi jinping. a reminder that this study...</td>\n",
              "      <td>jtwb17u8</td>\n",
              "    </tr>\n",
              "    <tr>\n",
              "      <th>3</th>\n",
              "      <td>3</td>\n",
              "      <td>Taiwan - a population of 23 million has had ju...</td>\n",
              "      <td>0w9k8iy1</td>\n",
              "    </tr>\n",
              "    <tr>\n",
              "      <th>4</th>\n",
              "      <td>4</td>\n",
              "      <td>Obtaining a diagnosis of autism in lower incom...</td>\n",
              "      <td>tiqksd69</td>\n",
              "    </tr>\n",
              "  </tbody>\n",
              "</table>\n",
              "</div>"
            ],
            "text/plain": [
              "   post_id                                         tweet_text  cord_uid\n",
              "0        0  Oral care in rehabilitation medicine: oral vul...  htlvpvz5\n",
              "1        1  this study isn't receiving sufficient attentio...  4kfl29ul\n",
              "2        2  thanks, xi jinping. a reminder that this study...  jtwb17u8\n",
              "3        3  Taiwan - a population of 23 million has had ju...  0w9k8iy1\n",
              "4        4  Obtaining a diagnosis of autism in lower incom...  tiqksd69"
            ]
          },
          "execution_count": 11,
          "metadata": {},
          "output_type": "execute_result"
        }
      ],
      "source": [
        "df_query_train.head()"
      ]
    },
    {
      "cell_type": "code",
      "execution_count": 12,
      "metadata": {
        "colab": {
          "base_uri": "https://localhost:8080/"
        },
        "id": "aslmTTJQyL2X",
        "outputId": "6a82cb9d-85b5-4482-8e84-9c930c698fa6"
      },
      "outputs": [
        {
          "name": "stdout",
          "output_type": "stream",
          "text": [
            "<class 'pandas.core.frame.DataFrame'>\n",
            "RangeIndex: 12853 entries, 0 to 12852\n",
            "Data columns (total 3 columns):\n",
            " #   Column      Non-Null Count  Dtype \n",
            "---  ------      --------------  ----- \n",
            " 0   post_id     12853 non-null  int64 \n",
            " 1   tweet_text  12853 non-null  object\n",
            " 2   cord_uid    12853 non-null  object\n",
            "dtypes: int64(1), object(2)\n",
            "memory usage: 301.4+ KB\n"
          ]
        }
      ],
      "source": [
        "df_query_train.info()"
      ]
    },
    {
      "cell_type": "code",
      "execution_count": 13,
      "metadata": {
        "colab": {
          "base_uri": "https://localhost:8080/",
          "height": 206
        },
        "id": "B5X8FwLhLY3u",
        "outputId": "321494ec-400e-447a-da71-69bae3bcef8a"
      },
      "outputs": [
        {
          "data": {
            "text/html": [
              "<div>\n",
              "<style scoped>\n",
              "    .dataframe tbody tr th:only-of-type {\n",
              "        vertical-align: middle;\n",
              "    }\n",
              "\n",
              "    .dataframe tbody tr th {\n",
              "        vertical-align: top;\n",
              "    }\n",
              "\n",
              "    .dataframe thead th {\n",
              "        text-align: right;\n",
              "    }\n",
              "</style>\n",
              "<table border=\"1\" class=\"dataframe\">\n",
              "  <thead>\n",
              "    <tr style=\"text-align: right;\">\n",
              "      <th></th>\n",
              "      <th>post_id</th>\n",
              "      <th>tweet_text</th>\n",
              "      <th>cord_uid</th>\n",
              "    </tr>\n",
              "  </thead>\n",
              "  <tbody>\n",
              "    <tr>\n",
              "      <th>0</th>\n",
              "      <td>16</td>\n",
              "      <td>covid recovery: this study from the usa reveal...</td>\n",
              "      <td>3qvh482o</td>\n",
              "    </tr>\n",
              "    <tr>\n",
              "      <th>1</th>\n",
              "      <td>69</td>\n",
              "      <td>\"Among 139 clients exposed to two symptomatic ...</td>\n",
              "      <td>r58aohnu</td>\n",
              "    </tr>\n",
              "    <tr>\n",
              "      <th>2</th>\n",
              "      <td>73</td>\n",
              "      <td>I recall early on reading that researchers who...</td>\n",
              "      <td>sts48u9i</td>\n",
              "    </tr>\n",
              "    <tr>\n",
              "      <th>3</th>\n",
              "      <td>93</td>\n",
              "      <td>You know you're credible when NIH website has ...</td>\n",
              "      <td>3sr2exq9</td>\n",
              "    </tr>\n",
              "    <tr>\n",
              "      <th>4</th>\n",
              "      <td>96</td>\n",
              "      <td>Resistance to antifungal medications is a grow...</td>\n",
              "      <td>ybwwmyqy</td>\n",
              "    </tr>\n",
              "  </tbody>\n",
              "</table>\n",
              "</div>"
            ],
            "text/plain": [
              "   post_id                                         tweet_text  cord_uid\n",
              "0       16  covid recovery: this study from the usa reveal...  3qvh482o\n",
              "1       69  \"Among 139 clients exposed to two symptomatic ...  r58aohnu\n",
              "2       73  I recall early on reading that researchers who...  sts48u9i\n",
              "3       93  You know you're credible when NIH website has ...  3sr2exq9\n",
              "4       96  Resistance to antifungal medications is a grow...  ybwwmyqy"
            ]
          },
          "execution_count": 13,
          "metadata": {},
          "output_type": "execute_result"
        }
      ],
      "source": [
        "df_query_dev.head()"
      ]
    },
    {
      "cell_type": "code",
      "execution_count": 14,
      "metadata": {
        "colab": {
          "base_uri": "https://localhost:8080/"
        },
        "id": "t6gDlBZnLcdH",
        "outputId": "6368a5e3-e31e-48e2-8fa8-329bc50e6f47"
      },
      "outputs": [
        {
          "name": "stdout",
          "output_type": "stream",
          "text": [
            "<class 'pandas.core.frame.DataFrame'>\n",
            "RangeIndex: 1400 entries, 0 to 1399\n",
            "Data columns (total 3 columns):\n",
            " #   Column      Non-Null Count  Dtype \n",
            "---  ------      --------------  ----- \n",
            " 0   post_id     1400 non-null   int64 \n",
            " 1   tweet_text  1400 non-null   object\n",
            " 2   cord_uid    1400 non-null   object\n",
            "dtypes: int64(1), object(2)\n",
            "memory usage: 32.9+ KB\n"
          ]
        }
      ],
      "source": [
        "df_query_dev.info()"
      ]
    },
    {
      "cell_type": "markdown",
      "metadata": {
        "id": "jr_BDzufPmmP"
      },
      "source": [
        "# 2) Running the baseline\n",
        "The following code runs a BM25 baseline.\n"
      ]
    },
    {
      "cell_type": "code",
      "execution_count": 15,
      "metadata": {
        "colab": {
          "base_uri": "https://localhost:8080/"
        },
        "id": "BHfJ7ItxO8u8",
        "outputId": "5965d775-f87c-4d1c-9cda-23b7bd6d342a"
      },
      "outputs": [
        {
          "name": "stdout",
          "output_type": "stream",
          "text": [
            "Defaulting to user installation because normal site-packages is not writeable\n",
            "Requirement already satisfied: rank_bm25 in c:\\users\\gold mobile\\appdata\\roaming\\python\\python311\\site-packages (0.2.2)\n",
            "Requirement already satisfied: numpy in c:\\programdata\\anaconda3\\lib\\site-packages (from rank_bm25) (1.26.4)\n"
          ]
        }
      ],
      "source": [
        "!pip install rank_bm25\n",
        "from rank_bm25 import BM25Okapi\n"
      ]
    },
    {
      "cell_type": "code",
      "execution_count": 16,
      "metadata": {
        "id": "jXCC7K_ZPQL2"
      },
      "outputs": [],
      "source": [
        "# Create the BM25 corpus\n",
        "corpus = df_collection[:][['title', 'abstract']].apply(lambda x: f\"{x['title']} {x['abstract']}\", axis=1).tolist()\n",
        "cord_uids = df_collection[:]['cord_uid'].tolist()\n",
        "tokenized_corpus = [doc.split(' ') for doc in corpus]\n",
        "bm25 = BM25Okapi(tokenized_corpus)"
      ]
    },
    {
      "cell_type": "code",
      "execution_count": 17,
      "metadata": {
        "id": "e8NeJWGYPQZG"
      },
      "outputs": [],
      "source": [
        "def get_top_cord_uids(query):\n",
        "  text2bm25top = {}\n",
        "  if query in text2bm25top.keys():\n",
        "      return text2bm25top[query]\n",
        "  else:\n",
        "      tokenized_query = query.split(' ')\n",
        "      doc_scores = bm25.get_scores(tokenized_query)\n",
        "      indices = np.argsort(-doc_scores)[:5]\n",
        "      bm25_topk = [cord_uids[x] for x in indices]\n",
        "\n",
        "      text2bm25top[query] = bm25_topk\n",
        "      return bm25_topk\n"
      ]
    },
    {
      "cell_type": "code",
      "execution_count": 18,
      "metadata": {
        "id": "Fk4-BqEtTgUj"
      },
      "outputs": [],
      "source": [
        "# Retrieve topk candidates using the BM25 model\n",
        "df_query_train['bm25_topk'] = df_query_train['tweet_text'].apply(lambda x: get_top_cord_uids(x))\n",
        "df_query_dev['bm25_topk'] = df_query_dev['tweet_text'].apply(lambda x: get_top_cord_uids(x))"
      ]
    },
    {
      "cell_type": "markdown",
      "metadata": {
        "id": "QVKBlTCZUMSc"
      },
      "source": [
        "# 3) Evaluating the baseline\n",
        "The following code evaluates the BM25 retrieval baseline on the query set using the Mean Reciprocal Rank score (MRR@5)."
      ]
    },
    {
      "cell_type": "code",
      "execution_count": 19,
      "metadata": {
        "id": "c-vdGWXXTgjZ"
      },
      "outputs": [],
      "source": [
        "# Evaluate retrieved candidates using MRR@k\n",
        "def get_performance_mrr(data, col_gold, col_pred, list_k = [1, 5, 10]):\n",
        "    d_performance = {}\n",
        "    for k in list_k:\n",
        "        data[\"in_topx\"] = data.apply(lambda x: (1/([i for i in x[col_pred][:k]].index(x[col_gold]) + 1) if x[col_gold] in [i for i in x[col_pred][:k]] else 0), axis=1)\n",
        "        #performances.append(data[\"in_topx\"].mean())\n",
        "        d_performance[k] = data[\"in_topx\"].mean()\n",
        "    return d_performance\n"
      ]
    },
    {
      "cell_type": "code",
      "execution_count": 20,
      "metadata": {
        "id": "xLX9SMg5USkH"
      },
      "outputs": [
        {
          "name": "stdout",
          "output_type": "stream",
          "text": [
            "Results on the train set: {1: 0.5079747918773827, 5: 0.5508999196037242, 10: 0.5508999196037242}\n",
            "Results on the dev set: {1: 0.505, 5: 0.5520357142857142, 10: 0.5520357142857142}\n"
          ]
        }
      ],
      "source": [
        "results_train = get_performance_mrr(df_query_train, 'cord_uid', 'bm25_topk')\n",
        "results_dev = get_performance_mrr(df_query_dev, 'cord_uid', 'bm25_topk')\n",
        "# Printed MRR@k results in the following format: {k: MRR@k}\n",
        "print(f\"Results on the train set: {results_train}\")\n",
        "print(f\"Results on the dev set: {results_dev}\")"
      ]
    },
    {
      "cell_type": "markdown",
      "metadata": {
        "id": "RazcRTV84KQC"
      },
      "source": [
        "# 4) Exporting results to prepare the submission on Codalab"
      ]
    },
    {
      "cell_type": "code",
      "execution_count": 21,
      "metadata": {
        "id": "DFng4ocDw3Hk"
      },
      "outputs": [],
      "source": [
        "#df_query_dev['preds'] = df_query_dev['bm25_topk'].apply(lambda x: x[:5])"
      ]
    },
    {
      "cell_type": "code",
      "execution_count": 22,
      "metadata": {
        "id": "nAVBQYh_xP8O"
      },
      "outputs": [],
      "source": [
        "#df_query_dev[['post_id', 'preds']].to_csv('predictions.tsv', index=None, sep='\\t')"
      ]
    },
    {
      "cell_type": "markdown",
      "metadata": {
        "id": "YFd4svOhXEgI"
      },
      "source": [
        "# **Part 1: Traditional IR Model (BM25) (Doni)**"
      ]
    },
    {
      "cell_type": "code",
      "execution_count": 23,
      "metadata": {
        "id": "opGI1H1h4Og5"
      },
      "outputs": [],
      "source": [
        "# def mrr_at_5(df):\n",
        "#     reciprocal_ranks = []\n",
        "#     for _, row in df.iterrows():\n",
        "#         true_uid = row['cord_uid']\n",
        "#         preds = row['bm25_topk'][:5]  # top 5 predicted cord_uids\n",
        "#         if true_uid in preds:\n",
        "#             rank = preds.index(true_uid) + 1\n",
        "#             reciprocal_ranks.append(1/rank)\n",
        "#         else:\n",
        "#             reciprocal_ranks.append(0)\n",
        "#     return sum(reciprocal_ranks) / len(reciprocal_ranks)\n",
        "\n",
        "# score = mrr_at_5(df_query_dev)\n",
        "# print(f'MRR@5: {score:.4f}')\n"
      ]
    },
    {
      "cell_type": "code",
      "execution_count": 24,
      "metadata": {
        "id": "PNuQucOfLT6e"
      },
      "outputs": [],
      "source": [
        "# df_query_test = pd.read_csv('subtask4b_query_tweets_test.tsv', sep='\\t')"
      ]
    },
    {
      "cell_type": "code",
      "execution_count": 25,
      "metadata": {
        "id": "8dHB1i52HjJn"
      },
      "outputs": [],
      "source": [
        "# # Run BM25 on test set\n",
        "# df_query_test['bm25_topk'] = df_query_test['tweet_text'].apply(lambda x: get_top_cord_uids(x))\n",
        "\n",
        "# # Format submission\n",
        "# df_submission = df_query_test[['post_id', 'bm25_topk']].copy()\n",
        "# df_submission.rename(columns={'bm25_topk': 'preds'}, inplace=True)\n",
        "\n",
        "# # Convert list of predictions to string format required in submission\n",
        "# df_submission['preds'] = df_submission['preds'].apply(lambda preds: str(preds[:5]))\n",
        "\n",
        "# # Save to TSV file\n",
        "# df_submission.to_csv('bm25_submission.tsv', sep='\\t', index=False)\n"
      ]
    },
    {
      "cell_type": "code",
      "execution_count": 26,
      "metadata": {
        "id": "u138Vi5kPQdY"
      },
      "outputs": [],
      "source": [
        "# import nltk\n",
        "# nltk.download('punkt')\n",
        "# nltk.download('punkt_tab')\n",
        "\n",
        "# from nltk.tokenize import word_tokenize\n"
      ]
    },
    {
      "cell_type": "code",
      "execution_count": 27,
      "metadata": {
        "id": "6aWvsJGoODl2"
      },
      "outputs": [],
      "source": [
        "# from rank_bm25 import BM25Okapi\n",
        "# import nltk\n",
        "# nltk.download('punkt')\n",
        "# from nltk.tokenize import word_tokenize\n",
        "\n",
        "# # 1. Create combined document text for each paper (title + abstract)\n",
        "# df_collection['combined_text'] = (df_collection['title'] + ' ' + df_collection['abstract']).fillna('')\n",
        "\n",
        "# # 2. Tokenize combined documents for BM25\n",
        "# corpus = df_collection['combined_text'].apply(word_tokenize).tolist()\n",
        "\n",
        "# # 3. Build BM25 index on combined corpus\n",
        "# bm25 = BM25Okapi(corpus)\n",
        "\n",
        "# # Define a retrieval function using this new BM25\n",
        "# def get_top_cord_uids(query, topk=5):\n",
        "#     tokenized_query = word_tokenize(query)\n",
        "#     scores = bm25.get_scores(tokenized_query)\n",
        "#     top_indices = scores.argsort()[-topk:][::-1]\n",
        "#     top_cord_uids = df_collection.iloc[top_indices]['cord_uid'].tolist()\n",
        "#     return top_cord_uids\n",
        "\n",
        "# # 4. Run BM25 retrieval on the test queries (load test queries first)\n",
        "# df_query_test = pd.read_csv('subtask4b_query_tweets_test.tsv', sep='\\t')\n",
        "\n",
        "# df_query_test['bm25_topk'] = df_query_test['tweet_text'].apply(lambda x: get_top_cord_uids(x))\n",
        "\n",
        "# # 5. Prepare submission file\n",
        "# df_submission = df_query_test[['post_id', 'bm25_topk']].copy()\n",
        "# df_submission.rename(columns={'bm25_topk': 'preds'}, inplace=True)\n",
        "# df_submission['preds'] = df_submission['preds'].apply(lambda preds: str(preds[:5]))\n",
        "# df_submission.to_csv('bm25_improved_submission.tsv', sep='\\t', index=False)\n"
      ]
    },
    {
      "cell_type": "code",
      "execution_count": 28,
      "metadata": {
        "id": "BLXW2sLvMrim"
      },
      "outputs": [
        {
          "name": "stderr",
          "output_type": "stream",
          "text": [
            "[nltk_data] Downloading package punkt to C:\\Users\\GOLD\n",
            "[nltk_data]     Mobile\\AppData\\Roaming\\nltk_data...\n",
            "[nltk_data]   Package punkt is already up-to-date!\n",
            "[nltk_data] Downloading package punkt_tab to C:\\Users\\GOLD\n",
            "[nltk_data]     Mobile\\AppData\\Roaming\\nltk_data...\n",
            "[nltk_data]   Package punkt_tab is already up-to-date!\n"
          ]
        },
        {
          "name": "stdout",
          "output_type": "stream",
          "text": [
            "MRR@5 (local test split): 0.5460\n"
          ]
        }
      ],
      "source": [
        "#New version, had to adjust due to missing the CLEF deadline.\n",
        "\n",
        "from sklearn.model_selection import train_test_split\n",
        "import nltk\n",
        "nltk.download('punkt')\n",
        "nltk.download('punkt_tab')\n",
        "from nltk.tokenize import word_tokenize\n",
        "from rank_bm25 import BM25Okapi\n",
        "\n",
        "# 1. Combine and clean training + dev queries\n",
        "df_query_train[\"split_origin\"] = \"train\"\n",
        "df_query_dev[\"split_origin\"] = \"dev\"\n",
        "df_all_queries = pd.concat([df_query_train, df_query_dev], ignore_index=True)\n",
        "df_all_queries = df_all_queries.drop_duplicates(subset=[\"tweet_text\"])\n",
        "\n",
        "# 2. Split into new train/test sets (80/20)\n",
        "df_train_split, df_test_split = train_test_split(\n",
        "    df_all_queries, test_size=0.2, random_state=42\n",
        ")\n",
        "\n",
        "# 3. Build BM25 index on document collection\n",
        "df_collection['combined_text'] = (df_collection['title'] + ' ' + df_collection['abstract']).fillna('')\n",
        "corpus = df_collection['combined_text'].apply(word_tokenize).tolist()\n",
        "bm25 = BM25Okapi(corpus)\n",
        "\n",
        "# 4. Define BM25 retrieval function\n",
        "def get_top_cord_uids(query, topk=5):\n",
        "    tokenized_query = word_tokenize(query)\n",
        "    scores = bm25.get_scores(tokenized_query)\n",
        "    top_indices = scores.argsort()[-topk:][::-1]\n",
        "    return df_collection.iloc[top_indices]['cord_uid'].tolist()\n",
        "\n",
        "# 5. Run BM25 on test set\n",
        "df_test_split['bm25_topk'] = df_test_split['tweet_text'].apply(lambda x: get_top_cord_uids(x))\n",
        "\n",
        "# 6. Evaluate MRR@5 using your own function\n",
        "def mrr_at_5(df):\n",
        "    reciprocal_ranks = []\n",
        "    for _, row in df.iterrows():\n",
        "        true_uid = row['cord_uid']\n",
        "        preds = row['bm25_topk'][:5]\n",
        "        if true_uid in preds:\n",
        "            rank = preds.index(true_uid) + 1\n",
        "            reciprocal_ranks.append(1 / rank)\n",
        "        else:\n",
        "            reciprocal_ranks.append(0)\n",
        "    return sum(reciprocal_ranks) / len(reciprocal_ranks)\n",
        "\n",
        "score = mrr_at_5(df_test_split)\n",
        "print(f'MRR@5 (local test split): {score:.4f}')"
      ]
    },
    {
      "cell_type": "code",
      "execution_count": 42,
      "metadata": {},
      "outputs": [],
      "source": [
        "#df_query_dev.bm25_topk[1]"
      ]
    },
    {
      "cell_type": "markdown",
      "metadata": {
        "id": "ygzzs5YeWfrv"
      },
      "source": [
        "# **Part 2: Neural IR Model (Dense Retriever using Sentence-BERT) (Fisi/Rina)**"
      ]
    },
    {
      "cell_type": "code",
      "execution_count": null,
      "metadata": {
        "id": "XM8MMarAa8_m"
      },
      "outputs": [],
      "source": []
    },
    {
      "cell_type": "markdown",
      "metadata": {
        "id": "8B3tMh4nWqWS"
      },
      "source": [
        "# **Part 3: Neural Re-Ranker (Re-ranking top 20 BM25 candidates using BERT) (Arditi/Rita)**\n"
      ]
    },
    {
      "cell_type": "code",
      "execution_count": null,
      "metadata": {
        "id": "5c3jVrVWWzCX"
      },
      "outputs": [],
      "source": []
    }
  ],
  "metadata": {
    "colab": {
      "collapsed_sections": [
        "ygzzs5YeWfrv",
        "8B3tMh4nWqWS"
      ],
      "provenance": [],
      "toc_visible": true
    },
    "kernelspec": {
      "display_name": "base",
      "language": "python",
      "name": "python3"
    },
    "language_info": {
      "codemirror_mode": {
        "name": "ipython",
        "version": 3
      },
      "file_extension": ".py",
      "mimetype": "text/x-python",
      "name": "python",
      "nbconvert_exporter": "python",
      "pygments_lexer": "ipython3",
      "version": "3.11.7"
    }
  },
  "nbformat": 4,
  "nbformat_minor": 0
}
